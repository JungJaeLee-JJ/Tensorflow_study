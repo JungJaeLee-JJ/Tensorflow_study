{
 "cells": [
  {
   "cell_type": "code",
   "execution_count": null,
   "metadata": {},
   "outputs": [],
   "source": [
    "import numpy as np\n",
    "#x1,x2,x3,y 일때\n",
    "xy = = np.loadtxt('파일경로.csv',delimiter=',',dtype=np.float32)\n",
    "x_data = xy[:,0:-1]\n",
    "y_data  = xy[:,[-1]]\n"
   ]
  },
  {
   "cell_type": "markdown",
   "metadata": {},
   "source": [
    "## 만약 메모리가 부족하여 numpy를 이용하지 못할 경우 ##\n",
    "### --->Queue Runners ###"
   ]
  },
  {
   "cell_type": "code",
   "execution_count": null,
   "metadata": {},
   "outputs": [],
   "source": [
    "filename_queue = tf.train.string_input_producer(\n",
    "['파일경로1.csv','파일경로2.csv','etc.csv~~~'],\n",
    "shuffle=False,name='filename_queue')\n",
    "\n",
    "reader = tf.TextLineReader()\n",
    "key,value = reader.read(filename_queue)\n",
    "\n",
    "record_defaults = [[0.],[0.],[0.],[0.]]\n",
    "xy=tf.decode_csv(value,record_defaults=record_defaults)\n",
    "\n",
    "train_x_batch,train_y_batch = tf.train.batch([xy[0:-1], xy[-1:0]],batch_size=10)\n",
    "\n",
    "sess = tf.Session()\n",
    "\n",
    "coord = tf.train.Coordinator()\n",
    "threads = tf.train.start_queue_runners(sess=sess,coord=coord)\n",
    "\n",
    "for step in range(2001):\n",
    "    x_batch,y_batch = sess.run([train_x_batch,train_y_batch])\n",
    "    #feed_dict로 x_batch,y_batch넘겨주면됨\n",
    "\n",
    "coord.request_stop()\n",
    "coord.join(threads)"
   ]
  }
 ],
 "metadata": {
  "kernelspec": {
   "display_name": "Python [conda env:py3tf14] *",
   "language": "python",
   "name": "conda-env-py3tf14-py"
  },
  "language_info": {
   "codemirror_mode": {
    "name": "ipython",
    "version": 3
   },
   "file_extension": ".py",
   "mimetype": "text/x-python",
   "name": "python",
   "nbconvert_exporter": "python",
   "pygments_lexer": "ipython3",
   "version": "3.7.5"
  }
 },
 "nbformat": 4,
 "nbformat_minor": 2
}
